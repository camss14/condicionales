{
  "nbformat": 4,
  "nbformat_minor": 0,
  "metadata": {
    "colab": {
      "provenance": [],
      "authorship_tag": "ABX9TyNdD2584wSbmkr3JsDW6Pvn",
      "include_colab_link": true
    },
    "kernelspec": {
      "name": "python3",
      "display_name": "Python 3"
    },
    "language_info": {
      "name": "python"
    }
  },
  "cells": [
    {
      "cell_type": "markdown",
      "metadata": {
        "id": "view-in-github",
        "colab_type": "text"
      },
      "source": [
        "<a href=\"https://colab.research.google.com/github/camss14/condicionales/blob/main/ejercicio.ipynb\" target=\"_parent\"><img src=\"https://colab.research.google.com/assets/colab-badge.svg\" alt=\"Open In Colab\"/></a>"
      ]
    },
    {
      "cell_type": "markdown",
      "source": [
        "\n",
        "#Condicionales\n",
        "\n",
        "**Nombre**: Maria Camila Espitia\n",
        "\n",
        "**Email:** mariac.espitiap@upb.edu.co\n",
        "\n",
        "Ejercicio sobre condicionales"
      ],
      "metadata": {
        "id": "utvc5jYe3D-8"
      }
    },
    {
      "cell_type": "markdown",
      "source": [
        "###Problema: Cálculo del Precio de Boletas en el Cine\n",
        "\n",
        "Descripción del problema: Un cine local ofrece promociones en las entradas según el horario de la función. Las reglas para determinar el costo de las entradas son las siguientes:\n",
        "\n",
        "Para cualquier función antes de las 6:00 p.m., las entradas tienen los siguientes precios:\n",
        "Niños: $5,000 COP.\n",
        "Adultos: $7,500 COP.\n",
        "Para funciones después de las 6:00 p.m., el precio de la entrada es general:\n",
        "Entrada general: $10,000 COP por persona.\n",
        "Además, si el total de la compra supera los $50,000 COP, el cine regala una crispeta familiar.\n",
        "Entradas del problema:\n",
        "num_ninos: número de niños en el grupo.\n",
        "num_adultos: número de adultos en el grupo.\n",
        "hora_funcion: hora de la función en formato de 24 horas (por ejemplo, 14 para las 2 p.m., 19 para las 7 p.m.).\n",
        "Salidas esperadas:\n",
        "El total a pagar por las entradas.\n",
        "Si se obtiene o no la crispeta familiar"
      ],
      "metadata": {
        "id": "uRJ9oei68j4d"
      }
    },
    {
      "cell_type": "markdown",
      "source": [
        "### algortimo para determinar el total a pagar en el cine\n",
        "\n",
        "1. iniciar\n",
        "2. obtener el numero de niños que entraran a la funcion\n",
        "3. obtener el numero de adultos que entraran a la funcion\n",
        "4. obtener la hora de la funcion (0-24)\n",
        "5. determinar el total dependiendo de la hora de la funcion\n",
        "- si la hora es menor a 18, entonces total= num_niños * 5000+num_adultos * 7500\n",
        "- si la hora es mayor o igual a 18, entonces total= (num_niños+num_adultos)*10000\n",
        "6. mostrar totak\n",
        "7. si el total es mayor a $50000 indiciar que se ha ganado una crispeta gartis\n",
        "8. finalizar"
      ],
      "metadata": {
        "id": "zWz_Bo5p8jvU"
      }
    },
    {
      "cell_type": "markdown",
      "source": [
        "### pseudocodigo\n",
        "\n",
        "````\n",
        "program calcular entrada a cine\n",
        "\n",
        "start\n",
        "\n",
        "//programa para calcular el total de las entradas a cine\n",
        "declare int num_niños\n",
        "declare int num_adultos\n",
        "declare int hora\n",
        "declare float total\n",
        "\n",
        "display\"ingrese el numero de niños: \"\n",
        "input num_niños\n",
        "display \"ingrese el num_adultos: \"\n",
        "input num_adultos\n",
        "display \"ingrese la hora de la funcion (0-24)\n",
        "input hora\n",
        "\n",
        "// determinar el total a pagar dependiendo de la hora de la funcion\n",
        "if hora < 18 then\n",
        "total = num_niños*5000+ num_adultos*7500\n",
        "else\n",
        "total = (num:niños + num_adultos)*10000\n",
        "end if\n",
        "\n",
        "display \"el total a pagar es \" , total\n",
        "\n",
        "//determinar si el grupo se gana unas crispetas\n",
        "if total > 50000 then\n",
        "display \"se ha ganado unas crispetas familiar.\"\n",
        "end if\n",
        "\n",
        "display \"disfrute de la funcion:)\"\n",
        "\n",
        "end\n",
        "```\n"
      ],
      "metadata": {
        "id": "efiH9Cbs-bPG"
      }
    },
    {
      "cell_type": "code",
      "execution_count": 10,
      "metadata": {
        "colab": {
          "base_uri": "https://localhost:8080/"
        },
        "id": "Up4GJTK02uW8",
        "outputId": "680cd16f-1faa-4859-83a8-5b5729c0e785"
      },
      "outputs": [
        {
          "output_type": "stream",
          "name": "stdout",
          "text": [
            "ingrese el numero de niños: 8\n",
            "ingrese el numero de adultos: 3\n",
            "ingrese la hora de la funcion (0-24): 15\n",
            "el total a pagar es $ 62500\n",
            "se ha ganado unas crispetas familiar.\n",
            "disfrute de la funcion:)\n"
          ]
        }
      ],
      "source": [
        "num_niños= int(input(\"ingrese el numero de niños: \"))\n",
        "num_adultos= int(input(\"ingrese el numero de adultos: \"))\n",
        "hora= int(input(\"ingrese la hora de la funcion (0-24): \"))\n",
        "\n",
        "if hora < 18:\n",
        "  total= num_niños * 5000 + num_adultos * 7500\n",
        "else:\n",
        "  total= (num_niños + num_adultos) * 10000\n",
        "\n",
        "print(\"el total a pagar es $\", total)\n",
        "\n",
        "if total > 50000:\n",
        "   print(\"se ha ganado unas crispetas familiar.\")\n",
        "\n",
        "print(\"disfrute de la funcion:)\")"
      ]
    }
  ]
}